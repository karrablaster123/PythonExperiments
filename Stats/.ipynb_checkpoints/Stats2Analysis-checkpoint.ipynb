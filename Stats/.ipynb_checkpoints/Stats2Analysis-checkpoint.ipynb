{
 "cells": [
  {
   "cell_type": "code",
   "execution_count": null,
   "id": "c13161e3-1d66-4b8a-8a8e-74e39f8bc161",
   "metadata": {},
   "outputs": [],
   "source": [
    "import csv\n",
    "import os\n",
    "from scipy import stats #if error, run pip install scipy on your system.\n",
    "import numpy as np\n",
    "\n",
    "\n",
    "#Use the below command if the directory is incorrect!\n",
    "#os.chdir(r'C:\\Users\\uddha\\OneDrive\\Documents\\GitHub\\PythonExperiments\\Stats')  \n",
    "period_1 = []\n",
    "period_2 = []\n",
    "#print(os.getcwd())\n",
    "try:\n",
    "    with open('Group_67_Question_1_Data.csv') as csvfile:\n",
    "        reader = csv.DictReader(csvfile)\n",
    "        \n",
    "        for row in reader:\n",
    "            period_1.append(float(row['Period 1']))\n",
    "            period_2.append(float(row['Period 2']))\n",
    "except:\n",
    "    #If you are not sure what your current directory is, use the commented print(os.getcwd()) above in a separated code cell.\n",
    "    print(\"You probably haven't selected the right path. Fix os.chdir and ensure it points to the data file!\")\n",
    "else: "
   ]
  }
 ],
 "metadata": {
  "kernelspec": {
   "display_name": "Python 3 (ipykernel)",
   "language": "python",
   "name": "python3"
  },
  "language_info": {
   "codemirror_mode": {
    "name": "ipython",
    "version": 3
   },
   "file_extension": ".py",
   "mimetype": "text/x-python",
   "name": "python",
   "nbconvert_exporter": "python",
   "pygments_lexer": "ipython3",
   "version": "3.9.7"
  }
 },
 "nbformat": 4,
 "nbformat_minor": 5
}
